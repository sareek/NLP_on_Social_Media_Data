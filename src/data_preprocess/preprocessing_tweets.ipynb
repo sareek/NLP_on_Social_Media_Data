{
 "cells": [
  {
   "cell_type": "code",
   "execution_count": null,
   "metadata": {},
   "outputs": [],
   "source": [
    "#tweets are truncated with ...\n"
   ]
  },
  {
   "cell_type": "code",
   "execution_count": null,
   "metadata": {},
   "outputs": [
    {
     "data": {
      "text/plain": [
       "'D:\\\\spring 23\\\\724-DataAnalytics_SocialMedia\\\\Project\\\\github\\\\NLP_on_Social_Media_Data\\\\src\\\\data_preprocess'"
      ]
     },
     "metadata": {},
     "output_type": "display_data"
    }
   ],
   "source": [
    "# import needed libraries\n",
    "import pandas as pd \n",
    "\n",
    "# import graphing library\n",
    "import matplotlib.pyplot as plt\n",
    "\n",
    "import os  # for OS interface (to get/change directory)\n",
    "# display and set working/data directory\n",
    "os.getcwd()\n",
    "os.chdir('D:/spring 23/724-DataAnalytics_SocialMedia/Project/github/NLP_on_Social_Media_Data/src/data_preprocess')\n",
    "os.getcwd()"
   ]
  },
  {
   "cell_type": "code",
   "execution_count": null,
   "metadata": {},
   "outputs": [],
   "source": [
    "# import the data; note the field separator\n",
    "df_chrisrocklive = pd.read_csv(\"../../data/#chrisrocklive_project_tweets.2023-03-09_17.16.18.676751.tsv\", sep=\"\\t\", index_col=0)\n",
    "df_tyrenichols = pd.read_csv(\"../../data/#tyrenichols_project_tweets.2023-03-09_19.25.43.435891.tsv\", sep=\"\\t\", index_col=0)\n",
    "df_chatgpt = pd.read_csv(\"../../data/chatgpt_project_tweets.2023-03-09_19.12.39.616553.tsv\", sep=\"\\t\", index_col=0)\n",
    "df_maga = pd.read_csv(\"../../data/maga_project_tweets.2023-03-08_22.25.11.437694.tsv\", sep=\"\\t\", index_col=0)\n",
    "df_obama = pd.read_csv(\"../../data/obama_project_tweets.2023-03-08_22.36.15.226664.tsv\", sep=\"\\t\", index_col=0)\n",
    "df_russia = pd.read_csv(\"../../data/russia_project_tweets.2023-03-08_22.51.51.710826.tsv\", sep=\"\\t\", index_col=0)\n",
    "df_ukraine = pd.read_csv(\"../../data/ukraine_project_tweets.2023-03-09_12.09.04.774701.tsv\", sep=\"\\t\", index_col=0)\n",
    "df_statehood = pd.read_csv(\"../../data/statehood_project_tweets.2023-03-09_17.12.00.547177.tsv\", sep=\"\\t\", index_col=0)\n",
    "\n",
    "# df_chrisrocklive = pd.read_csv(\"olid-training-v1.0-extra.tsv\", sep=\"\\t\")"
   ]
  },
  {
   "cell_type": "code",
   "execution_count": null,
   "metadata": {},
   "outputs": [],
   "source": [
    "combined_df = pd.concat([df_chrisrocklive, df_tyrenichols])"
   ]
  },
  {
   "cell_type": "code",
   "execution_count": null,
   "metadata": {},
   "outputs": [],
   "source": [
    "combined_df = pd.concat([combined_df, df_chatgpt])"
   ]
  },
  {
   "cell_type": "code",
   "execution_count": null,
   "metadata": {},
   "outputs": [],
   "source": [
    "combined_df = pd.concat([combined_df, df_maga])"
   ]
  },
  {
   "cell_type": "code",
   "execution_count": null,
   "metadata": {},
   "outputs": [],
   "source": [
    "combined_df = pd.concat([combined_df, df_obama])"
   ]
  },
  {
   "cell_type": "code",
   "execution_count": null,
   "metadata": {},
   "outputs": [],
   "source": [
    "combined_df = pd.concat([combined_df, df_russia])"
   ]
  },
  {
   "cell_type": "code",
   "execution_count": null,
   "metadata": {},
   "outputs": [],
   "source": [
    "combined_df = pd.concat([combined_df, df_ukraine])"
   ]
  },
  {
   "cell_type": "code",
   "execution_count": null,
   "metadata": {},
   "outputs": [],
   "source": [
    "combined_df = pd.concat([combined_df, df_statehood])"
   ]
  },
  {
   "cell_type": "code",
   "execution_count": null,
   "metadata": {},
   "outputs": [
    {
     "data": {
      "text/plain": [
       "36581"
      ]
     },
     "metadata": {},
     "output_type": "display_data"
    }
   ],
   "source": [
    "#total number of rows with possible duplications in dataset\n",
    "combined_df.shape[0]"
   ]
  },
  {
   "cell_type": "markdown",
   "metadata": {},
   "source": [
    "################################################\n"
   ]
  },
  {
   "cell_type": "code",
   "execution_count": null,
   "metadata": {},
   "outputs": [
    {
     "data": {
      "text/html": [
       "<div>\n",
       "<style scoped>\n",
       "    .dataframe tbody tr th:only-of-type {\n",
       "        vertical-align: middle;\n",
       "    }\n",
       "\n",
       "    .dataframe tbody tr th {\n",
       "        vertical-align: top;\n",
       "    }\n",
       "\n",
       "    .dataframe thead th {\n",
       "        text-align: right;\n",
       "    }\n",
       "</style>\n",
       "<table border=\"1\" class=\"dataframe\">\n",
       "  <thead>\n",
       "    <tr style=\"text-align: right;\">\n",
       "      <th></th>\n",
       "      <th>conversation_id</th>\n",
       "      <th>lang</th>\n",
       "      <th>reply_settings</th>\n",
       "      <th>created_at</th>\n",
       "      <th>text</th>\n",
       "      <th>author_id</th>\n",
       "      <th>referenced_tweets</th>\n",
       "      <th>id</th>\n",
       "      <th>edit_history_tweet_ids</th>\n",
       "      <th>public_metrics.retweet_count</th>\n",
       "      <th>public_metrics.reply_count</th>\n",
       "      <th>public_metrics.like_count</th>\n",
       "      <th>public_metrics.quote_count</th>\n",
       "      <th>public_metrics.impression_count</th>\n",
       "      <th>in_reply_to_user_id</th>\n",
       "      <th>geo.place_id</th>\n",
       "      <th>withheld.copyright</th>\n",
       "      <th>withheld.country_codes</th>\n",
       "      <th>geo.coordinates.type</th>\n",
       "      <th>geo.coordinates.coordinates</th>\n",
       "    </tr>\n",
       "  </thead>\n",
       "  <tbody>\n",
       "    <tr>\n",
       "      <th>0</th>\n",
       "      <td>1633954063934009354</td>\n",
       "      <td>en</td>\n",
       "      <td>everyone</td>\n",
       "      <td>2023-03-09T22:13:00.000Z</td>\n",
       "      <td>RT @Infantry_bucky: He’s lucky a #ChrisRockLiv...</td>\n",
       "      <td>1519164980582653953</td>\n",
       "      <td>[{'type': 'retweeted', 'id': '1633938373529292...</td>\n",
       "      <td>1633954063934009354</td>\n",
       "      <td>['1633954063934009354']</td>\n",
       "      <td>8</td>\n",
       "      <td>0</td>\n",
       "      <td>0</td>\n",
       "      <td>0</td>\n",
       "      <td>0</td>\n",
       "      <td>NaN</td>\n",
       "      <td>NaN</td>\n",
       "      <td>NaN</td>\n",
       "      <td>NaN</td>\n",
       "      <td>NaN</td>\n",
       "      <td>NaN</td>\n",
       "    </tr>\n",
       "    <tr>\n",
       "      <th>1</th>\n",
       "      <td>1633954058212876289</td>\n",
       "      <td>en</td>\n",
       "      <td>everyone</td>\n",
       "      <td>2023-03-09T22:12:59.000Z</td>\n",
       "      <td>RT @1_ofakindnocap: Chris Rock: “we all been c...</td>\n",
       "      <td>21575184</td>\n",
       "      <td>[{'type': 'retweeted', 'id': '1632283297588948...</td>\n",
       "      <td>1633954058212876289</td>\n",
       "      <td>['1633954058212876289']</td>\n",
       "      <td>616</td>\n",
       "      <td>0</td>\n",
       "      <td>0</td>\n",
       "      <td>0</td>\n",
       "      <td>0</td>\n",
       "      <td>NaN</td>\n",
       "      <td>NaN</td>\n",
       "      <td>NaN</td>\n",
       "      <td>NaN</td>\n",
       "      <td>NaN</td>\n",
       "      <td>NaN</td>\n",
       "    </tr>\n",
       "    <tr>\n",
       "      <th>2</th>\n",
       "      <td>1633951267423768578</td>\n",
       "      <td>en</td>\n",
       "      <td>everyone</td>\n",
       "      <td>2023-03-09T22:01:54.000Z</td>\n",
       "      <td>RT @1_ofakindnocap: Chris Rock: “we all been c...</td>\n",
       "      <td>360633018</td>\n",
       "      <td>[{'type': 'retweeted', 'id': '1632283297588948...</td>\n",
       "      <td>1633951267423768578</td>\n",
       "      <td>['1633951267423768578']</td>\n",
       "      <td>616</td>\n",
       "      <td>0</td>\n",
       "      <td>0</td>\n",
       "      <td>0</td>\n",
       "      <td>0</td>\n",
       "      <td>NaN</td>\n",
       "      <td>NaN</td>\n",
       "      <td>NaN</td>\n",
       "      <td>NaN</td>\n",
       "      <td>NaN</td>\n",
       "      <td>NaN</td>\n",
       "    </tr>\n",
       "    <tr>\n",
       "      <th>3</th>\n",
       "      <td>1633950853626318850</td>\n",
       "      <td>en</td>\n",
       "      <td>everyone</td>\n",
       "      <td>2023-03-09T22:00:15.000Z</td>\n",
       "      <td>RT @rolandsmartin: Working out and watching th...</td>\n",
       "      <td>1547101103803830272</td>\n",
       "      <td>[{'type': 'retweeted', 'id': '1632825595473149...</td>\n",
       "      <td>1633950853626318850</td>\n",
       "      <td>['1633950853626318850']</td>\n",
       "      <td>14</td>\n",
       "      <td>0</td>\n",
       "      <td>0</td>\n",
       "      <td>0</td>\n",
       "      <td>0</td>\n",
       "      <td>NaN</td>\n",
       "      <td>NaN</td>\n",
       "      <td>NaN</td>\n",
       "      <td>NaN</td>\n",
       "      <td>NaN</td>\n",
       "      <td>NaN</td>\n",
       "    </tr>\n",
       "    <tr>\n",
       "      <th>4</th>\n",
       "      <td>1633950824664645634</td>\n",
       "      <td>en</td>\n",
       "      <td>everyone</td>\n",
       "      <td>2023-03-09T22:00:08.000Z</td>\n",
       "      <td>RT @rolandsmartin: Workout done. I’ll have a f...</td>\n",
       "      <td>1547101103803830272</td>\n",
       "      <td>[{'type': 'retweeted', 'id': '1632833853021728...</td>\n",
       "      <td>1633950824664645634</td>\n",
       "      <td>['1633950824664645634']</td>\n",
       "      <td>8</td>\n",
       "      <td>0</td>\n",
       "      <td>0</td>\n",
       "      <td>0</td>\n",
       "      <td>0</td>\n",
       "      <td>NaN</td>\n",
       "      <td>NaN</td>\n",
       "      <td>NaN</td>\n",
       "      <td>NaN</td>\n",
       "      <td>NaN</td>\n",
       "      <td>NaN</td>\n",
       "    </tr>\n",
       "  </tbody>\n",
       "</table>\n",
       "</div>"
      ],
      "text/plain": [
       "       conversation_id lang reply_settings                created_at  \\\n",
       "0  1633954063934009354   en       everyone  2023-03-09T22:13:00.000Z   \n",
       "1  1633954058212876289   en       everyone  2023-03-09T22:12:59.000Z   \n",
       "2  1633951267423768578   en       everyone  2023-03-09T22:01:54.000Z   \n",
       "3  1633950853626318850   en       everyone  2023-03-09T22:00:15.000Z   \n",
       "4  1633950824664645634   en       everyone  2023-03-09T22:00:08.000Z   \n",
       "\n",
       "                                                text            author_id  \\\n",
       "0  RT @Infantry_bucky: He’s lucky a #ChrisRockLiv...  1519164980582653953   \n",
       "1  RT @1_ofakindnocap: Chris Rock: “we all been c...             21575184   \n",
       "2  RT @1_ofakindnocap: Chris Rock: “we all been c...            360633018   \n",
       "3  RT @rolandsmartin: Working out and watching th...  1547101103803830272   \n",
       "4  RT @rolandsmartin: Workout done. I’ll have a f...  1547101103803830272   \n",
       "\n",
       "                                   referenced_tweets                   id  \\\n",
       "0  [{'type': 'retweeted', 'id': '1633938373529292...  1633954063934009354   \n",
       "1  [{'type': 'retweeted', 'id': '1632283297588948...  1633954058212876289   \n",
       "2  [{'type': 'retweeted', 'id': '1632283297588948...  1633951267423768578   \n",
       "3  [{'type': 'retweeted', 'id': '1632825595473149...  1633950853626318850   \n",
       "4  [{'type': 'retweeted', 'id': '1632833853021728...  1633950824664645634   \n",
       "\n",
       "    edit_history_tweet_ids  public_metrics.retweet_count  \\\n",
       "0  ['1633954063934009354']                             8   \n",
       "1  ['1633954058212876289']                           616   \n",
       "2  ['1633951267423768578']                           616   \n",
       "3  ['1633950853626318850']                            14   \n",
       "4  ['1633950824664645634']                             8   \n",
       "\n",
       "   public_metrics.reply_count  public_metrics.like_count  \\\n",
       "0                           0                          0   \n",
       "1                           0                          0   \n",
       "2                           0                          0   \n",
       "3                           0                          0   \n",
       "4                           0                          0   \n",
       "\n",
       "   public_metrics.quote_count  public_metrics.impression_count  \\\n",
       "0                           0                                0   \n",
       "1                           0                                0   \n",
       "2                           0                                0   \n",
       "3                           0                                0   \n",
       "4                           0                                0   \n",
       "\n",
       "   in_reply_to_user_id geo.place_id withheld.copyright withheld.country_codes  \\\n",
       "0                  NaN          NaN                NaN                    NaN   \n",
       "1                  NaN          NaN                NaN                    NaN   \n",
       "2                  NaN          NaN                NaN                    NaN   \n",
       "3                  NaN          NaN                NaN                    NaN   \n",
       "4                  NaN          NaN                NaN                    NaN   \n",
       "\n",
       "  geo.coordinates.type geo.coordinates.coordinates  \n",
       "0                  NaN                         NaN  \n",
       "1                  NaN                         NaN  \n",
       "2                  NaN                         NaN  \n",
       "3                  NaN                         NaN  \n",
       "4                  NaN                         NaN  "
      ]
     },
     "metadata": {},
     "output_type": "display_data"
    }
   ],
   "source": [
    "combined_df.head()"
   ]
  },
  {
   "cell_type": "code",
   "execution_count": null,
   "metadata": {},
   "outputs": [],
   "source": [
    "duplicated_rows = combined_df.duplicated().sum()\n"
   ]
  },
  {
   "cell_type": "code",
   "execution_count": null,
   "metadata": {},
   "outputs": [
    {
     "data": {
      "text/plain": [
       "4296"
      ]
     },
     "metadata": {},
     "output_type": "display_data"
    }
   ],
   "source": [
    "duplicated_rows"
   ]
  },
  {
   "cell_type": "code",
   "execution_count": null,
   "metadata": {},
   "outputs": [],
   "source": [
    "combined_df = combined_df.drop_duplicates()"
   ]
  },
  {
   "cell_type": "code",
   "execution_count": null,
   "metadata": {},
   "outputs": [
    {
     "data": {
      "text/plain": [
       "32285"
      ]
     },
     "metadata": {},
     "output_type": "display_data"
    }
   ],
   "source": [
    "#After removing duplications we have 32,285 unique values\n",
    "combined_df.shape[0]"
   ]
  },
  {
   "cell_type": "code",
   "execution_count": null,
   "metadata": {},
   "outputs": [
    {
     "data": {
      "text/plain": [
       "30611"
      ]
     },
     "metadata": {},
     "output_type": "display_data"
    }
   ],
   "source": [
    "combined_df['conversation_id'].nunique()"
   ]
  },
  {
   "cell_type": "code",
   "execution_count": null,
   "metadata": {},
   "outputs": [
    {
     "data": {
      "text/plain": [
       "5070"
      ]
     },
     "metadata": {},
     "output_type": "display_data"
    }
   ],
   "source": [
    "df_chrisrocklive.shape[0]"
   ]
  },
  {
   "cell_type": "code",
   "execution_count": null,
   "metadata": {},
   "outputs": [
    {
     "data": {
      "text/plain": [
       "36581"
      ]
     },
     "metadata": {},
     "output_type": "display_data"
    }
   ],
   "source": [
    "count_row = combined_df.shape[0]\n",
    "count_row"
   ]
  },
  {
   "cell_type": "code",
   "execution_count": null,
   "metadata": {},
   "outputs": [
    {
     "data": {
      "text/html": [
       "<div>\n",
       "<style scoped>\n",
       "    .dataframe tbody tr th:only-of-type {\n",
       "        vertical-align: middle;\n",
       "    }\n",
       "\n",
       "    .dataframe tbody tr th {\n",
       "        vertical-align: top;\n",
       "    }\n",
       "\n",
       "    .dataframe thead th {\n",
       "        text-align: right;\n",
       "    }\n",
       "</style>\n",
       "<table border=\"1\" class=\"dataframe\">\n",
       "  <thead>\n",
       "    <tr style=\"text-align: right;\">\n",
       "      <th></th>\n",
       "      <th>conversation_id</th>\n",
       "      <th>lang</th>\n",
       "      <th>reply_settings</th>\n",
       "      <th>created_at</th>\n",
       "      <th>text</th>\n",
       "      <th>author_id</th>\n",
       "      <th>referenced_tweets</th>\n",
       "      <th>id</th>\n",
       "      <th>edit_history_tweet_ids</th>\n",
       "      <th>public_metrics.retweet_count</th>\n",
       "      <th>public_metrics.reply_count</th>\n",
       "      <th>public_metrics.like_count</th>\n",
       "      <th>public_metrics.quote_count</th>\n",
       "      <th>public_metrics.impression_count</th>\n",
       "      <th>in_reply_to_user_id</th>\n",
       "      <th>geo.place_id</th>\n",
       "      <th>withheld.copyright</th>\n",
       "      <th>withheld.country_codes</th>\n",
       "      <th>geo.coordinates.type</th>\n",
       "      <th>geo.coordinates.coordinates</th>\n",
       "    </tr>\n",
       "  </thead>\n",
       "  <tbody>\n",
       "    <tr>\n",
       "      <th>0</th>\n",
       "      <td>1633954063934009354</td>\n",
       "      <td>en</td>\n",
       "      <td>everyone</td>\n",
       "      <td>2023-03-09T22:13:00.000Z</td>\n",
       "      <td>RT @Infantry_bucky: He’s lucky a #ChrisRockLiv...</td>\n",
       "      <td>1519164980582653953</td>\n",
       "      <td>[{'type': 'retweeted', 'id': '1633938373529292...</td>\n",
       "      <td>1633954063934009354</td>\n",
       "      <td>['1633954063934009354']</td>\n",
       "      <td>8</td>\n",
       "      <td>0</td>\n",
       "      <td>0</td>\n",
       "      <td>0</td>\n",
       "      <td>0</td>\n",
       "      <td>NaN</td>\n",
       "      <td>NaN</td>\n",
       "      <td>NaN</td>\n",
       "      <td>NaN</td>\n",
       "      <td>NaN</td>\n",
       "      <td>NaN</td>\n",
       "    </tr>\n",
       "    <tr>\n",
       "      <th>1</th>\n",
       "      <td>1633954058212876289</td>\n",
       "      <td>en</td>\n",
       "      <td>everyone</td>\n",
       "      <td>2023-03-09T22:12:59.000Z</td>\n",
       "      <td>RT @1_ofakindnocap: Chris Rock: “we all been c...</td>\n",
       "      <td>21575184</td>\n",
       "      <td>[{'type': 'retweeted', 'id': '1632283297588948...</td>\n",
       "      <td>1633954058212876289</td>\n",
       "      <td>['1633954058212876289']</td>\n",
       "      <td>616</td>\n",
       "      <td>0</td>\n",
       "      <td>0</td>\n",
       "      <td>0</td>\n",
       "      <td>0</td>\n",
       "      <td>NaN</td>\n",
       "      <td>NaN</td>\n",
       "      <td>NaN</td>\n",
       "      <td>NaN</td>\n",
       "      <td>NaN</td>\n",
       "      <td>NaN</td>\n",
       "    </tr>\n",
       "    <tr>\n",
       "      <th>2</th>\n",
       "      <td>1633951267423768578</td>\n",
       "      <td>en</td>\n",
       "      <td>everyone</td>\n",
       "      <td>2023-03-09T22:01:54.000Z</td>\n",
       "      <td>RT @1_ofakindnocap: Chris Rock: “we all been c...</td>\n",
       "      <td>360633018</td>\n",
       "      <td>[{'type': 'retweeted', 'id': '1632283297588948...</td>\n",
       "      <td>1633951267423768578</td>\n",
       "      <td>['1633951267423768578']</td>\n",
       "      <td>616</td>\n",
       "      <td>0</td>\n",
       "      <td>0</td>\n",
       "      <td>0</td>\n",
       "      <td>0</td>\n",
       "      <td>NaN</td>\n",
       "      <td>NaN</td>\n",
       "      <td>NaN</td>\n",
       "      <td>NaN</td>\n",
       "      <td>NaN</td>\n",
       "      <td>NaN</td>\n",
       "    </tr>\n",
       "    <tr>\n",
       "      <th>3</th>\n",
       "      <td>1633950853626318850</td>\n",
       "      <td>en</td>\n",
       "      <td>everyone</td>\n",
       "      <td>2023-03-09T22:00:15.000Z</td>\n",
       "      <td>RT @rolandsmartin: Working out and watching th...</td>\n",
       "      <td>1547101103803830272</td>\n",
       "      <td>[{'type': 'retweeted', 'id': '1632825595473149...</td>\n",
       "      <td>1633950853626318850</td>\n",
       "      <td>['1633950853626318850']</td>\n",
       "      <td>14</td>\n",
       "      <td>0</td>\n",
       "      <td>0</td>\n",
       "      <td>0</td>\n",
       "      <td>0</td>\n",
       "      <td>NaN</td>\n",
       "      <td>NaN</td>\n",
       "      <td>NaN</td>\n",
       "      <td>NaN</td>\n",
       "      <td>NaN</td>\n",
       "      <td>NaN</td>\n",
       "    </tr>\n",
       "    <tr>\n",
       "      <th>4</th>\n",
       "      <td>1633950824664645634</td>\n",
       "      <td>en</td>\n",
       "      <td>everyone</td>\n",
       "      <td>2023-03-09T22:00:08.000Z</td>\n",
       "      <td>RT @rolandsmartin: Workout done. I’ll have a f...</td>\n",
       "      <td>1547101103803830272</td>\n",
       "      <td>[{'type': 'retweeted', 'id': '1632833853021728...</td>\n",
       "      <td>1633950824664645634</td>\n",
       "      <td>['1633950824664645634']</td>\n",
       "      <td>8</td>\n",
       "      <td>0</td>\n",
       "      <td>0</td>\n",
       "      <td>0</td>\n",
       "      <td>0</td>\n",
       "      <td>NaN</td>\n",
       "      <td>NaN</td>\n",
       "      <td>NaN</td>\n",
       "      <td>NaN</td>\n",
       "      <td>NaN</td>\n",
       "      <td>NaN</td>\n",
       "    </tr>\n",
       "  </tbody>\n",
       "</table>\n",
       "</div>"
      ],
      "text/plain": [
       "       conversation_id lang reply_settings                created_at  \\\n",
       "0  1633954063934009354   en       everyone  2023-03-09T22:13:00.000Z   \n",
       "1  1633954058212876289   en       everyone  2023-03-09T22:12:59.000Z   \n",
       "2  1633951267423768578   en       everyone  2023-03-09T22:01:54.000Z   \n",
       "3  1633950853626318850   en       everyone  2023-03-09T22:00:15.000Z   \n",
       "4  1633950824664645634   en       everyone  2023-03-09T22:00:08.000Z   \n",
       "\n",
       "                                                text            author_id  \\\n",
       "0  RT @Infantry_bucky: He’s lucky a #ChrisRockLiv...  1519164980582653953   \n",
       "1  RT @1_ofakindnocap: Chris Rock: “we all been c...             21575184   \n",
       "2  RT @1_ofakindnocap: Chris Rock: “we all been c...            360633018   \n",
       "3  RT @rolandsmartin: Working out and watching th...  1547101103803830272   \n",
       "4  RT @rolandsmartin: Workout done. I’ll have a f...  1547101103803830272   \n",
       "\n",
       "                                   referenced_tweets                   id  \\\n",
       "0  [{'type': 'retweeted', 'id': '1633938373529292...  1633954063934009354   \n",
       "1  [{'type': 'retweeted', 'id': '1632283297588948...  1633954058212876289   \n",
       "2  [{'type': 'retweeted', 'id': '1632283297588948...  1633951267423768578   \n",
       "3  [{'type': 'retweeted', 'id': '1632825595473149...  1633950853626318850   \n",
       "4  [{'type': 'retweeted', 'id': '1632833853021728...  1633950824664645634   \n",
       "\n",
       "    edit_history_tweet_ids  public_metrics.retweet_count  \\\n",
       "0  ['1633954063934009354']                             8   \n",
       "1  ['1633954058212876289']                           616   \n",
       "2  ['1633951267423768578']                           616   \n",
       "3  ['1633950853626318850']                            14   \n",
       "4  ['1633950824664645634']                             8   \n",
       "\n",
       "   public_metrics.reply_count  public_metrics.like_count  \\\n",
       "0                           0                          0   \n",
       "1                           0                          0   \n",
       "2                           0                          0   \n",
       "3                           0                          0   \n",
       "4                           0                          0   \n",
       "\n",
       "   public_metrics.quote_count  public_metrics.impression_count  \\\n",
       "0                           0                                0   \n",
       "1                           0                                0   \n",
       "2                           0                                0   \n",
       "3                           0                                0   \n",
       "4                           0                                0   \n",
       "\n",
       "   in_reply_to_user_id geo.place_id withheld.copyright withheld.country_codes  \\\n",
       "0                  NaN          NaN                NaN                    NaN   \n",
       "1                  NaN          NaN                NaN                    NaN   \n",
       "2                  NaN          NaN                NaN                    NaN   \n",
       "3                  NaN          NaN                NaN                    NaN   \n",
       "4                  NaN          NaN                NaN                    NaN   \n",
       "\n",
       "  geo.coordinates.type geo.coordinates.coordinates  \n",
       "0                  NaN                         NaN  \n",
       "1                  NaN                         NaN  \n",
       "2                  NaN                         NaN  \n",
       "3                  NaN                         NaN  \n",
       "4                  NaN                         NaN  "
      ]
     },
     "metadata": {},
     "output_type": "display_data"
    }
   ],
   "source": [
    "combined_df.head()"
   ]
  },
  {
   "cell_type": "code",
   "execution_count": null,
   "metadata": {},
   "outputs": [],
   "source": []
  },
  {
   "cell_type": "code",
   "execution_count": null,
   "metadata": {},
   "outputs": [],
   "source": []
  },
  {
   "cell_type": "code",
   "execution_count": null,
   "metadata": {},
   "outputs": [],
   "source": []
  },
  {
   "cell_type": "code",
   "execution_count": null,
   "metadata": {},
   "outputs": [],
   "source": []
  }
 ],
 "metadata": {
  "language_info": {
   "name": "python"
  },
  "orig_nbformat": 4
 },
 "nbformat": 4,
 "nbformat_minor": 2
}
