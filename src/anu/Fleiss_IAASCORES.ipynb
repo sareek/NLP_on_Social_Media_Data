{
  "nbformat": 4,
  "nbformat_minor": 0,
  "metadata": {
    "colab": {
      "provenance": []
    },
    "kernelspec": {
      "name": "python3",
      "display_name": "Python 3"
    },
    "language_info": {
      "name": "python"
    }
  },
  "cells": [
    {
      "cell_type": "code",
      "execution_count": 7,
      "metadata": {
        "id": "kTP5p6GqujIw"
      },
      "outputs": [],
      "source": [
        "import pandas as pd\n",
        "from sklearn.metrics import cohen_kappa_score as cohen\n",
        "from itertools import combinations\n"
      ]
    },
    {
      "cell_type": "code",
      "source": [
        "url = 'https://raw.githubusercontent.com/sareek/NLP_on_Social_Media_Data/main/data/iaa_050123.0913.tsv'\n",
        "df = pd.read_csv(url, sep = '\\t')"
      ],
      "metadata": {
        "id": "9LOnSZ4OxltM"
      },
      "execution_count": 4,
      "outputs": []
    },
    {
      "cell_type": "code",
      "source": [
        "df"
      ],
      "metadata": {
        "colab": {
          "base_uri": "https://localhost:8080/",
          "height": 1000
        },
        "id": "rygO0eF3x62I",
        "outputId": "a912840d-b24c-4678-d4bf-687abf9cfc28"
      },
      "execution_count": 8,
      "outputs": [
        {
          "output_type": "execute_result",
          "data": {
            "text/plain": [
              "    Unnamed: 0.1  Unnamed: 0      conversation_id lang reply_settings  \\\n",
              "0              0       13190  1633665401883332608   en       everyone   \n",
              "1              1        7555  1633965977665966080   en       everyone   \n",
              "2              2        1728  1633219223626432512   en       everyone   \n",
              "3              3       29831  1633874107552108544   en       everyone   \n",
              "4              4        1632  1633227958260473856   en       everyone   \n",
              "..           ...         ...                  ...  ...            ...   \n",
              "95            95        3425  1633095016355622912   en       everyone   \n",
              "96            96       26912  1633876536695586816   en       everyone   \n",
              "97            97       20013  1633670596663054336   en       everyone   \n",
              "98            98       26101  1633877201052667904   en       everyone   \n",
              "99            99       25210  1633106009215442944   en       everyone   \n",
              "\n",
              "      created_at                                         clean_text  \\\n",
              "0    3/9/23 3:05  rt  eladnehorai too many liberals are sleeping...   \n",
              "1   3/9/23 23:00  chatgpt msi a520ma pro am4 micro atx motherboa...   \n",
              "2   3/7/23 21:33  rt  sagesurge marlon wayans roasting chris roc...   \n",
              "3   3/9/23 16:55  rt  visegrad24 its time for the west to send p...   \n",
              "4   3/7/23 22:07  rt  sagesurge marlon wayans roasting chris roc...   \n",
              "..           ...                                                ...   \n",
              "95  3/7/23 13:19  rt  tasterreblanche  sagesurge he also said #c...   \n",
              "96  3/9/23 17:04  rt  martinlzinn  aaronjmate incredible syria i...   \n",
              "97   3/9/23 3:26  rt  visegrad24 breakingrussia has fired a wave...   \n",
              "98  3/9/23 17:07  dont miss out on the uefa europa league game b...   \n",
              "99  3/7/23 22:49   coltsfan_rick  gulagsheepy  petepettifogger  ...   \n",
              "\n",
              "                                                 text     author_id  \\\n",
              "0   RT @EladNehorai: Too many liberals are sleepin...  2.360557e+09   \n",
              "1   ChatGPT: MSI A520M-A Pro AM4 Micro ATX Motherb...  6.791062e+06   \n",
              "2   RT @sagesurge: Marlon Wayans roasting Chris Ro...  3.180721e+08   \n",
              "3   RT @visegrad24: It’s time for the West to send...  1.497060e+18   \n",
              "4   RT @sagesurge: Marlon Wayans roasting Chris Ro...  1.522840e+18   \n",
              "..                                                ...           ...   \n",
              "95  RT @Tasterreblanche: @sagesurge He also said🤷🏻...  5.078723e+08   \n",
              "96  RT @MartinLZinn: @aaronjmate Incredible Syria ...  9.712790e+17   \n",
              "97  RT @visegrad24: BREAKING:\\n\\nRussia has fired ...  2.477166e+09   \n",
              "98  Don't miss out on the UEFA Europa League game ...  1.004140e+18   \n",
              "99  @ColtsFan_Rick @GulagSheepy @petepettifogger @...  2.475993e+07   \n",
              "\n",
              "                                    referenced_tweets  ...         keyword  \\\n",
              "0   [{'type': 'retweeted', 'id': '1633632434972663...  ...           obama   \n",
              "1                                                 NaN  ...         chatgpt   \n",
              "2   [{'type': 'retweeted', 'id': '1632525319973289...  ...  #chrisrocklive   \n",
              "3   [{'type': 'retweeted', 'id': '1633639497408696...  ...         ukraine   \n",
              "4   [{'type': 'retweeted', 'id': '1632525319973289...  ...  #chrisrocklive   \n",
              "..                                                ...  ...             ...   \n",
              "95  [{'type': 'retweeted', 'id': '1632830373305409...  ...  #chrisrocklive   \n",
              "96  [{'type': 'retweeted', 'id': '1633754771147444...  ...         ukraine   \n",
              "97  [{'type': 'retweeted', 'id': '1633637043258499...  ...          russia   \n",
              "98                                                NaN  ...         ukraine   \n",
              "99  [{'type': 'replied_to', 'id': '163322766371944...  ...       statehood   \n",
              "\n",
              "   normalized_roberta_polarity  textblob_label  vader_label  AFINN_label  \\\n",
              "0                     0.072673        positive     positive      neutral   \n",
              "1                     0.633470         neutral      neutral      neutral   \n",
              "2                     0.277563         neutral      neutral      neutral   \n",
              "3                     0.429270         neutral      neutral      neutral   \n",
              "4                     0.277563         neutral      neutral      neutral   \n",
              "..                         ...             ...          ...          ...   \n",
              "95                    0.422684         neutral      neutral      neutral   \n",
              "96                    0.018632         neutral     negative      neutral   \n",
              "97                    0.396495         neutral     negative      neutral   \n",
              "98                    0.962715         neutral     positive      neutral   \n",
              "99                    0.403016         neutral     positive      neutral   \n",
              "\n",
              "    SentiWordNet_label  roberta_label  our_label_sarik  our_label  \\\n",
              "0              neutral       negative         negative   negative   \n",
              "1              neutral       positive          neutral    neutral   \n",
              "2              neutral       negative         negative    neutral   \n",
              "3              neutral        neutral          neutral    neutral   \n",
              "4              neutral       negative         negative    neutral   \n",
              "..                 ...            ...              ...        ...   \n",
              "95             neutral        neutral          neutral    neutral   \n",
              "96             neutral       negative         negative   negative   \n",
              "97            negative        neutral         negative   negative   \n",
              "98             neutral       positive         positive   positive   \n",
              "99             neutral        neutral          neutral    neutral   \n",
              "\n",
              "    our_label_anu  \n",
              "0        negative  \n",
              "1         neutral  \n",
              "2         neutral  \n",
              "3         neutral  \n",
              "4         neutral  \n",
              "..            ...  \n",
              "95        neutral  \n",
              "96       negative  \n",
              "97        neutral  \n",
              "98        neutral  \n",
              "99        neutral  \n",
              "\n",
              "[100 rows x 50 columns]"
            ],
            "text/html": [
              "\n",
              "  <div id=\"df-7387ff32-b72e-4a20-b50d-475148ed999f\">\n",
              "    <div class=\"colab-df-container\">\n",
              "      <div>\n",
              "<style scoped>\n",
              "    .dataframe tbody tr th:only-of-type {\n",
              "        vertical-align: middle;\n",
              "    }\n",
              "\n",
              "    .dataframe tbody tr th {\n",
              "        vertical-align: top;\n",
              "    }\n",
              "\n",
              "    .dataframe thead th {\n",
              "        text-align: right;\n",
              "    }\n",
              "</style>\n",
              "<table border=\"1\" class=\"dataframe\">\n",
              "  <thead>\n",
              "    <tr style=\"text-align: right;\">\n",
              "      <th></th>\n",
              "      <th>Unnamed: 0.1</th>\n",
              "      <th>Unnamed: 0</th>\n",
              "      <th>conversation_id</th>\n",
              "      <th>lang</th>\n",
              "      <th>reply_settings</th>\n",
              "      <th>created_at</th>\n",
              "      <th>clean_text</th>\n",
              "      <th>text</th>\n",
              "      <th>author_id</th>\n",
              "      <th>referenced_tweets</th>\n",
              "      <th>...</th>\n",
              "      <th>keyword</th>\n",
              "      <th>normalized_roberta_polarity</th>\n",
              "      <th>textblob_label</th>\n",
              "      <th>vader_label</th>\n",
              "      <th>AFINN_label</th>\n",
              "      <th>SentiWordNet_label</th>\n",
              "      <th>roberta_label</th>\n",
              "      <th>our_label_sarik</th>\n",
              "      <th>our_label</th>\n",
              "      <th>our_label_anu</th>\n",
              "    </tr>\n",
              "  </thead>\n",
              "  <tbody>\n",
              "    <tr>\n",
              "      <th>0</th>\n",
              "      <td>0</td>\n",
              "      <td>13190</td>\n",
              "      <td>1633665401883332608</td>\n",
              "      <td>en</td>\n",
              "      <td>everyone</td>\n",
              "      <td>3/9/23 3:05</td>\n",
              "      <td>rt  eladnehorai too many liberals are sleeping...</td>\n",
              "      <td>RT @EladNehorai: Too many liberals are sleepin...</td>\n",
              "      <td>2.360557e+09</td>\n",
              "      <td>[{'type': 'retweeted', 'id': '1633632434972663...</td>\n",
              "      <td>...</td>\n",
              "      <td>obama</td>\n",
              "      <td>0.072673</td>\n",
              "      <td>positive</td>\n",
              "      <td>positive</td>\n",
              "      <td>neutral</td>\n",
              "      <td>neutral</td>\n",
              "      <td>negative</td>\n",
              "      <td>negative</td>\n",
              "      <td>negative</td>\n",
              "      <td>negative</td>\n",
              "    </tr>\n",
              "    <tr>\n",
              "      <th>1</th>\n",
              "      <td>1</td>\n",
              "      <td>7555</td>\n",
              "      <td>1633965977665966080</td>\n",
              "      <td>en</td>\n",
              "      <td>everyone</td>\n",
              "      <td>3/9/23 23:00</td>\n",
              "      <td>chatgpt msi a520ma pro am4 micro atx motherboa...</td>\n",
              "      <td>ChatGPT: MSI A520M-A Pro AM4 Micro ATX Motherb...</td>\n",
              "      <td>6.791062e+06</td>\n",
              "      <td>NaN</td>\n",
              "      <td>...</td>\n",
              "      <td>chatgpt</td>\n",
              "      <td>0.633470</td>\n",
              "      <td>neutral</td>\n",
              "      <td>neutral</td>\n",
              "      <td>neutral</td>\n",
              "      <td>neutral</td>\n",
              "      <td>positive</td>\n",
              "      <td>neutral</td>\n",
              "      <td>neutral</td>\n",
              "      <td>neutral</td>\n",
              "    </tr>\n",
              "    <tr>\n",
              "      <th>2</th>\n",
              "      <td>2</td>\n",
              "      <td>1728</td>\n",
              "      <td>1633219223626432512</td>\n",
              "      <td>en</td>\n",
              "      <td>everyone</td>\n",
              "      <td>3/7/23 21:33</td>\n",
              "      <td>rt  sagesurge marlon wayans roasting chris roc...</td>\n",
              "      <td>RT @sagesurge: Marlon Wayans roasting Chris Ro...</td>\n",
              "      <td>3.180721e+08</td>\n",
              "      <td>[{'type': 'retweeted', 'id': '1632525319973289...</td>\n",
              "      <td>...</td>\n",
              "      <td>#chrisrocklive</td>\n",
              "      <td>0.277563</td>\n",
              "      <td>neutral</td>\n",
              "      <td>neutral</td>\n",
              "      <td>neutral</td>\n",
              "      <td>neutral</td>\n",
              "      <td>negative</td>\n",
              "      <td>negative</td>\n",
              "      <td>neutral</td>\n",
              "      <td>neutral</td>\n",
              "    </tr>\n",
              "    <tr>\n",
              "      <th>3</th>\n",
              "      <td>3</td>\n",
              "      <td>29831</td>\n",
              "      <td>1633874107552108544</td>\n",
              "      <td>en</td>\n",
              "      <td>everyone</td>\n",
              "      <td>3/9/23 16:55</td>\n",
              "      <td>rt  visegrad24 its time for the west to send p...</td>\n",
              "      <td>RT @visegrad24: It’s time for the West to send...</td>\n",
              "      <td>1.497060e+18</td>\n",
              "      <td>[{'type': 'retweeted', 'id': '1633639497408696...</td>\n",
              "      <td>...</td>\n",
              "      <td>ukraine</td>\n",
              "      <td>0.429270</td>\n",
              "      <td>neutral</td>\n",
              "      <td>neutral</td>\n",
              "      <td>neutral</td>\n",
              "      <td>neutral</td>\n",
              "      <td>neutral</td>\n",
              "      <td>neutral</td>\n",
              "      <td>neutral</td>\n",
              "      <td>neutral</td>\n",
              "    </tr>\n",
              "    <tr>\n",
              "      <th>4</th>\n",
              "      <td>4</td>\n",
              "      <td>1632</td>\n",
              "      <td>1633227958260473856</td>\n",
              "      <td>en</td>\n",
              "      <td>everyone</td>\n",
              "      <td>3/7/23 22:07</td>\n",
              "      <td>rt  sagesurge marlon wayans roasting chris roc...</td>\n",
              "      <td>RT @sagesurge: Marlon Wayans roasting Chris Ro...</td>\n",
              "      <td>1.522840e+18</td>\n",
              "      <td>[{'type': 'retweeted', 'id': '1632525319973289...</td>\n",
              "      <td>...</td>\n",
              "      <td>#chrisrocklive</td>\n",
              "      <td>0.277563</td>\n",
              "      <td>neutral</td>\n",
              "      <td>neutral</td>\n",
              "      <td>neutral</td>\n",
              "      <td>neutral</td>\n",
              "      <td>negative</td>\n",
              "      <td>negative</td>\n",
              "      <td>neutral</td>\n",
              "      <td>neutral</td>\n",
              "    </tr>\n",
              "    <tr>\n",
              "      <th>...</th>\n",
              "      <td>...</td>\n",
              "      <td>...</td>\n",
              "      <td>...</td>\n",
              "      <td>...</td>\n",
              "      <td>...</td>\n",
              "      <td>...</td>\n",
              "      <td>...</td>\n",
              "      <td>...</td>\n",
              "      <td>...</td>\n",
              "      <td>...</td>\n",
              "      <td>...</td>\n",
              "      <td>...</td>\n",
              "      <td>...</td>\n",
              "      <td>...</td>\n",
              "      <td>...</td>\n",
              "      <td>...</td>\n",
              "      <td>...</td>\n",
              "      <td>...</td>\n",
              "      <td>...</td>\n",
              "      <td>...</td>\n",
              "      <td>...</td>\n",
              "    </tr>\n",
              "    <tr>\n",
              "      <th>95</th>\n",
              "      <td>95</td>\n",
              "      <td>3425</td>\n",
              "      <td>1633095016355622912</td>\n",
              "      <td>en</td>\n",
              "      <td>everyone</td>\n",
              "      <td>3/7/23 13:19</td>\n",
              "      <td>rt  tasterreblanche  sagesurge he also said #c...</td>\n",
              "      <td>RT @Tasterreblanche: @sagesurge He also said🤷🏻...</td>\n",
              "      <td>5.078723e+08</td>\n",
              "      <td>[{'type': 'retweeted', 'id': '1632830373305409...</td>\n",
              "      <td>...</td>\n",
              "      <td>#chrisrocklive</td>\n",
              "      <td>0.422684</td>\n",
              "      <td>neutral</td>\n",
              "      <td>neutral</td>\n",
              "      <td>neutral</td>\n",
              "      <td>neutral</td>\n",
              "      <td>neutral</td>\n",
              "      <td>neutral</td>\n",
              "      <td>neutral</td>\n",
              "      <td>neutral</td>\n",
              "    </tr>\n",
              "    <tr>\n",
              "      <th>96</th>\n",
              "      <td>96</td>\n",
              "      <td>26912</td>\n",
              "      <td>1633876536695586816</td>\n",
              "      <td>en</td>\n",
              "      <td>everyone</td>\n",
              "      <td>3/9/23 17:04</td>\n",
              "      <td>rt  martinlzinn  aaronjmate incredible syria i...</td>\n",
              "      <td>RT @MartinLZinn: @aaronjmate Incredible Syria ...</td>\n",
              "      <td>9.712790e+17</td>\n",
              "      <td>[{'type': 'retweeted', 'id': '1633754771147444...</td>\n",
              "      <td>...</td>\n",
              "      <td>ukraine</td>\n",
              "      <td>0.018632</td>\n",
              "      <td>neutral</td>\n",
              "      <td>negative</td>\n",
              "      <td>neutral</td>\n",
              "      <td>neutral</td>\n",
              "      <td>negative</td>\n",
              "      <td>negative</td>\n",
              "      <td>negative</td>\n",
              "      <td>negative</td>\n",
              "    </tr>\n",
              "    <tr>\n",
              "      <th>97</th>\n",
              "      <td>97</td>\n",
              "      <td>20013</td>\n",
              "      <td>1633670596663054336</td>\n",
              "      <td>en</td>\n",
              "      <td>everyone</td>\n",
              "      <td>3/9/23 3:26</td>\n",
              "      <td>rt  visegrad24 breakingrussia has fired a wave...</td>\n",
              "      <td>RT @visegrad24: BREAKING:\\n\\nRussia has fired ...</td>\n",
              "      <td>2.477166e+09</td>\n",
              "      <td>[{'type': 'retweeted', 'id': '1633637043258499...</td>\n",
              "      <td>...</td>\n",
              "      <td>russia</td>\n",
              "      <td>0.396495</td>\n",
              "      <td>neutral</td>\n",
              "      <td>negative</td>\n",
              "      <td>neutral</td>\n",
              "      <td>negative</td>\n",
              "      <td>neutral</td>\n",
              "      <td>negative</td>\n",
              "      <td>negative</td>\n",
              "      <td>neutral</td>\n",
              "    </tr>\n",
              "    <tr>\n",
              "      <th>98</th>\n",
              "      <td>98</td>\n",
              "      <td>26101</td>\n",
              "      <td>1633877201052667904</td>\n",
              "      <td>en</td>\n",
              "      <td>everyone</td>\n",
              "      <td>3/9/23 17:07</td>\n",
              "      <td>dont miss out on the uefa europa league game b...</td>\n",
              "      <td>Don't miss out on the UEFA Europa League game ...</td>\n",
              "      <td>1.004140e+18</td>\n",
              "      <td>NaN</td>\n",
              "      <td>...</td>\n",
              "      <td>ukraine</td>\n",
              "      <td>0.962715</td>\n",
              "      <td>neutral</td>\n",
              "      <td>positive</td>\n",
              "      <td>neutral</td>\n",
              "      <td>neutral</td>\n",
              "      <td>positive</td>\n",
              "      <td>positive</td>\n",
              "      <td>positive</td>\n",
              "      <td>neutral</td>\n",
              "    </tr>\n",
              "    <tr>\n",
              "      <th>99</th>\n",
              "      <td>99</td>\n",
              "      <td>25210</td>\n",
              "      <td>1633106009215442944</td>\n",
              "      <td>en</td>\n",
              "      <td>everyone</td>\n",
              "      <td>3/7/23 22:49</td>\n",
              "      <td>coltsfan_rick  gulagsheepy  petepettifogger  ...</td>\n",
              "      <td>@ColtsFan_Rick @GulagSheepy @petepettifogger @...</td>\n",
              "      <td>2.475993e+07</td>\n",
              "      <td>[{'type': 'replied_to', 'id': '163322766371944...</td>\n",
              "      <td>...</td>\n",
              "      <td>statehood</td>\n",
              "      <td>0.403016</td>\n",
              "      <td>neutral</td>\n",
              "      <td>positive</td>\n",
              "      <td>neutral</td>\n",
              "      <td>neutral</td>\n",
              "      <td>neutral</td>\n",
              "      <td>neutral</td>\n",
              "      <td>neutral</td>\n",
              "      <td>neutral</td>\n",
              "    </tr>\n",
              "  </tbody>\n",
              "</table>\n",
              "<p>100 rows × 50 columns</p>\n",
              "</div>\n",
              "      <button class=\"colab-df-convert\" onclick=\"convertToInteractive('df-7387ff32-b72e-4a20-b50d-475148ed999f')\"\n",
              "              title=\"Convert this dataframe to an interactive table.\"\n",
              "              style=\"display:none;\">\n",
              "        \n",
              "  <svg xmlns=\"http://www.w3.org/2000/svg\" height=\"24px\"viewBox=\"0 0 24 24\"\n",
              "       width=\"24px\">\n",
              "    <path d=\"M0 0h24v24H0V0z\" fill=\"none\"/>\n",
              "    <path d=\"M18.56 5.44l.94 2.06.94-2.06 2.06-.94-2.06-.94-.94-2.06-.94 2.06-2.06.94zm-11 1L8.5 8.5l.94-2.06 2.06-.94-2.06-.94L8.5 2.5l-.94 2.06-2.06.94zm10 10l.94 2.06.94-2.06 2.06-.94-2.06-.94-.94-2.06-.94 2.06-2.06.94z\"/><path d=\"M17.41 7.96l-1.37-1.37c-.4-.4-.92-.59-1.43-.59-.52 0-1.04.2-1.43.59L10.3 9.45l-7.72 7.72c-.78.78-.78 2.05 0 2.83L4 21.41c.39.39.9.59 1.41.59.51 0 1.02-.2 1.41-.59l7.78-7.78 2.81-2.81c.8-.78.8-2.07 0-2.86zM5.41 20L4 18.59l7.72-7.72 1.47 1.35L5.41 20z\"/>\n",
              "  </svg>\n",
              "      </button>\n",
              "      \n",
              "  <style>\n",
              "    .colab-df-container {\n",
              "      display:flex;\n",
              "      flex-wrap:wrap;\n",
              "      gap: 12px;\n",
              "    }\n",
              "\n",
              "    .colab-df-convert {\n",
              "      background-color: #E8F0FE;\n",
              "      border: none;\n",
              "      border-radius: 50%;\n",
              "      cursor: pointer;\n",
              "      display: none;\n",
              "      fill: #1967D2;\n",
              "      height: 32px;\n",
              "      padding: 0 0 0 0;\n",
              "      width: 32px;\n",
              "    }\n",
              "\n",
              "    .colab-df-convert:hover {\n",
              "      background-color: #E2EBFA;\n",
              "      box-shadow: 0px 1px 2px rgba(60, 64, 67, 0.3), 0px 1px 3px 1px rgba(60, 64, 67, 0.15);\n",
              "      fill: #174EA6;\n",
              "    }\n",
              "\n",
              "    [theme=dark] .colab-df-convert {\n",
              "      background-color: #3B4455;\n",
              "      fill: #D2E3FC;\n",
              "    }\n",
              "\n",
              "    [theme=dark] .colab-df-convert:hover {\n",
              "      background-color: #434B5C;\n",
              "      box-shadow: 0px 1px 3px 1px rgba(0, 0, 0, 0.15);\n",
              "      filter: drop-shadow(0px 1px 2px rgba(0, 0, 0, 0.3));\n",
              "      fill: #FFFFFF;\n",
              "    }\n",
              "  </style>\n",
              "\n",
              "      <script>\n",
              "        const buttonEl =\n",
              "          document.querySelector('#df-7387ff32-b72e-4a20-b50d-475148ed999f button.colab-df-convert');\n",
              "        buttonEl.style.display =\n",
              "          google.colab.kernel.accessAllowed ? 'block' : 'none';\n",
              "\n",
              "        async function convertToInteractive(key) {\n",
              "          const element = document.querySelector('#df-7387ff32-b72e-4a20-b50d-475148ed999f');\n",
              "          const dataTable =\n",
              "            await google.colab.kernel.invokeFunction('convertToInteractive',\n",
              "                                                     [key], {});\n",
              "          if (!dataTable) return;\n",
              "\n",
              "          const docLinkHtml = 'Like what you see? Visit the ' +\n",
              "            '<a target=\"_blank\" href=https://colab.research.google.com/notebooks/data_table.ipynb>data table notebook</a>'\n",
              "            + ' to learn more about interactive tables.';\n",
              "          element.innerHTML = '';\n",
              "          dataTable['output_type'] = 'display_data';\n",
              "          await google.colab.output.renderOutput(dataTable, element);\n",
              "          const docLink = document.createElement('div');\n",
              "          docLink.innerHTML = docLinkHtml;\n",
              "          element.appendChild(docLink);\n",
              "        }\n",
              "      </script>\n",
              "    </div>\n",
              "  </div>\n",
              "  "
            ]
          },
          "metadata": {},
          "execution_count": 8
        }
      ]
    },
    {
      "cell_type": "markdown",
      "source": [
        "#### Using the agreement package in NLTK to calculate agreement metrics on a set of annotations (For more than 2 annotators use Fleiss or Krippendorf's Alpha )"
      ],
      "metadata": {
        "id": "Ntlucpmk0Jm_"
      }
    },
    {
      "cell_type": "code",
      "source": [
        "from  nltk.metrics import agreement"
      ],
      "metadata": {
        "id": "TYlRcCEv0exp"
      },
      "execution_count": 17,
      "outputs": []
    },
    {
      "cell_type": "code",
      "source": [
        "# Reformat the data into the form AnnotationTask expects.\n",
        "#COHEN's WORKS ONLY FOR 2 annotators!\n",
        "\n",
        "data = []\n",
        "for idx, row in df.iterrows():\n",
        "    data.append((\"a1\", idx, row[\"our_label_sarik\"]))\n",
        "    data.append((\"a2\", idx, row[\"our_label_anu\"]))\n",
        "    data.append((\"a3\", idx, row[\"our_label_mel\"]))\n",
        "\n",
        "    \n",
        "atask = agreement.AnnotationTask(data=data)\n",
        "\n",
        "#print(\"Cohen's Kappa:\", atask.kappa())\n",
        "print(\"Fleiss's Kappa:\", atask.multi_kappa())"
      ],
      "metadata": {
        "colab": {
          "base_uri": "https://localhost:8080/"
        },
        "id": "95YqxVDAyEKQ",
        "outputId": "6c049589-b85c-453a-f5ce-9c1168c18488"
      },
      "execution_count": 19,
      "outputs": [
        {
          "output_type": "stream",
          "name": "stdout",
          "text": [
            "Fleiss's Kappa: 0.4351168994194257\n"
          ]
        }
      ]
    },
    {
      "cell_type": "code",
      "source": [
        "# This function maps labels into a numeric space,\n",
        "#. so we can rely on the ordering of labels.\n",
        "def priority_distance(left_label, right_label):\n",
        "    mapped_labels = {\n",
        "        \"positive\": 1,\n",
        "        \"neutral\": 2,\n",
        "        \"negative\": 3,\n",
        "    }\n",
        "    left_i = mapped_labels[left_label]\n",
        "    right_i = mapped_labels[right_label]\n",
        "    \n",
        "    return abs(left_i - right_i)\n",
        "\n",
        "# Create a new annotation task with the distance function\n",
        "atask_2 = agreement.AnnotationTask(data=data, distance=priority_distance)\n",
        "print(\"Krippendorf's Alpha:\", atask_2.alpha())"
      ],
      "metadata": {
        "colab": {
          "base_uri": "https://localhost:8080/"
        },
        "id": "kDWbZoFV0z5n",
        "outputId": "3b15fe90-9ce4-4073-e02d-cdaea3947867"
      },
      "execution_count": 31,
      "outputs": [
        {
          "output_type": "stream",
          "name": "stdout",
          "text": [
            "Krippendorf's Alpha: 0.4920179267113859\n"
          ]
        }
      ]
    },
    {
      "cell_type": "markdown",
      "source": [
        "#### Fliess Kappa using StatsModel"
      ],
      "metadata": {
        "id": "S7X_CuVF0kcc"
      }
    },
    {
      "cell_type": "code",
      "source": [
        "!pip install statsmodels"
      ],
      "metadata": {
        "id": "yfSfgzm034ZA"
      },
      "execution_count": null,
      "outputs": []
    },
    {
      "cell_type": "code",
      "source": [
        "import numpy as np\n",
        "from scipy import stats\n",
        "import statsmodels\n",
        "from statsmodels.stats import inter_rater as irr"
      ],
      "metadata": {
        "id": "zBFNT3B20H5z"
      },
      "execution_count": 53,
      "outputs": []
    },
    {
      "cell_type": "code",
      "source": [
        "final_table = []\n",
        "\n",
        "list_sarik = df['our_label_sarik']\n",
        "list_anu = df['our_label_anu']\n",
        "list_mel = df['our_label_mel']\n",
        "final_table.append(list_sarik)\n",
        "final_table.append(list_anu)\n",
        "final_table.append(list_mel)"
      ],
      "metadata": {
        "id": "jYHQ_zbs7slQ"
      },
      "execution_count": 72,
      "outputs": []
    },
    {
      "cell_type": "code",
      "source": [
        "final_table[2]"
      ],
      "metadata": {
        "colab": {
          "base_uri": "https://localhost:8080/"
        },
        "id": "JjrXBilJ797f",
        "outputId": "b4bac2a1-d725-4c6e-9c47-30edc1e1e403"
      },
      "execution_count": 68,
      "outputs": [
        {
          "output_type": "execute_result",
          "data": {
            "text/plain": [
              "0     negative\n",
              "1      neutral\n",
              "2      neutral\n",
              "3      neutral\n",
              "4      neutral\n",
              "        ...   \n",
              "95     neutral\n",
              "96    negative\n",
              "97    negative\n",
              "98    positive\n",
              "99    negative\n",
              "Name: our_label_mel, Length: 100, dtype: object"
            ]
          },
          "metadata": {},
          "execution_count": 68
        }
      ]
    },
    {
      "cell_type": "code",
      "source": [
        "#Extra don't really need to do\n",
        "dats, cats = irr.aggregate_raters(final_table)\n",
        "\n",
        "#Dats is the category counts and cats is the categories\n",
        "print(dats,cats)"
      ],
      "metadata": {
        "colab": {
          "base_uri": "https://localhost:8080/"
        },
        "id": "HPLepb_T7HH9",
        "outputId": "ebbb67ff-cd0f-4156-bbce-340be4bacde7"
      },
      "execution_count": 75,
      "outputs": [
        {
          "output_type": "stream",
          "name": "stdout",
          "text": [
            "[[46 36 18]\n",
            " [25 60 15]\n",
            " [34 43 23]] ['negative' 'neutral' 'positive']\n"
          ]
        }
      ]
    },
    {
      "cell_type": "code",
      "source": [
        "#To have subjects as rows and raters as columns\n",
        "giro = np.array(final_table).transpose()\n",
        "print(giro)"
      ],
      "metadata": {
        "id": "6AeTqI7V-FMP"
      },
      "execution_count": null,
      "outputs": []
    },
    {
      "cell_type": "code",
      "source": [
        "score = irr.fleiss_kappa(irr.aggregate_raters(giro)[0], method='fleiss')\n",
        "score"
      ],
      "metadata": {
        "colab": {
          "base_uri": "https://localhost:8080/"
        },
        "id": "OZeQzOLI-WKC",
        "outputId": "0b9fb98e-9e6d-441a-8464-8a4822c27db0"
      },
      "execution_count": 74,
      "outputs": [
        {
          "output_type": "execute_result",
          "data": {
            "text/plain": [
              "0.42673130684029875"
            ]
          },
          "metadata": {},
          "execution_count": 74
        }
      ]
    },
    {
      "cell_type": "markdown",
      "source": [
        "####krippendorff score\n",
        "needs numbers: doesn't work with 'neutral', 'negative', 'positive'"
      ],
      "metadata": {
        "id": "oLBOrlbS_NMN"
      }
    },
    {
      "cell_type": "code",
      "source": [
        "!pip install krippendorff\n"
      ],
      "metadata": {
        "colab": {
          "base_uri": "https://localhost:8080/"
        },
        "id": "GThiZS-9_K6O",
        "outputId": "6546d606-80e2-49cb-d2b9-caf3cac592d8"
      },
      "execution_count": 79,
      "outputs": [
        {
          "output_type": "stream",
          "name": "stdout",
          "text": [
            "Looking in indexes: https://pypi.org/simple, https://us-python.pkg.dev/colab-wheels/public/simple/\n",
            "Collecting krippendorff\n",
            "  Downloading krippendorff-0.6.0-py3-none-any.whl (17 kB)\n",
            "Requirement already satisfied: numpy<2.0,>=1.21 in /usr/local/lib/python3.10/dist-packages (from krippendorff) (1.22.4)\n",
            "Installing collected packages: krippendorff\n",
            "Successfully installed krippendorff-0.6.0\n"
          ]
        }
      ]
    },
    {
      "cell_type": "code",
      "source": [
        "array = np.array(final_table)\n",
        "print(array)"
      ],
      "metadata": {
        "colab": {
          "base_uri": "https://localhost:8080/"
        },
        "id": "a_Itcf06_0fJ",
        "outputId": "dbd12a67-f414-48c1-c3de-08bc5f425384"
      },
      "execution_count": 85,
      "outputs": [
        {
          "output_type": "stream",
          "name": "stdout",
          "text": [
            "[['negative' 'neutral' 'negative' 'neutral' 'negative' 'neutral'\n",
            "  'neutral' 'neutral' 'negative' 'negative' 'positive' 'neutral'\n",
            "  'neutral' 'neutral' 'negative' 'negative' 'negative' 'negative'\n",
            "  'negative' 'negative' 'positive' 'negative' 'positive' 'negative'\n",
            "  'positive' 'negative' 'neutral' 'negative' 'positive' 'negative'\n",
            "  'negative' 'negative' 'negative' 'neutral' 'neutral' 'positive'\n",
            "  'neutral' 'neutral' 'neutral' 'positive' 'negative' 'negative'\n",
            "  'negative' 'negative' 'positive' 'neutral' 'negative' 'neutral'\n",
            "  'negative' 'negative' 'neutral' 'negative' 'neutral' 'neutral'\n",
            "  'neutral' 'negative' 'negative' 'positive' 'neutral' 'positive'\n",
            "  'positive' 'positive' 'positive' 'negative' 'neutral' 'neutral'\n",
            "  'positive' 'negative' 'negative' 'negative' 'neutral' 'neutral'\n",
            "  'neutral' 'neutral' 'positive' 'neutral' 'negative' 'negative'\n",
            "  'neutral' 'negative' 'negative' 'positive' 'neutral' 'neutral'\n",
            "  'positive' 'neutral' 'negative' 'negative' 'neutral' 'negative'\n",
            "  'negative' 'negative' 'negative' 'negative' 'neutral' 'neutral'\n",
            "  'negative' 'negative' 'positive' 'neutral']\n",
            " ['negative' 'neutral' 'neutral' 'neutral' 'neutral' 'neutral' 'neutral'\n",
            "  'neutral' 'neutral' 'negative' 'neutral' 'neutral' 'neutral' 'neutral'\n",
            "  'neutral' 'neutral' 'negative' 'negative' 'negative' 'negative'\n",
            "  'neutral' 'negative' 'positive' 'negative' 'negative' 'positive'\n",
            "  'neutral' 'neutral' 'positive' 'neutral' 'negative' 'neutral' 'neutral'\n",
            "  'neutral' 'neutral' 'positive' 'neutral' 'positive' 'neutral'\n",
            "  'positive' 'negative' 'neutral' 'negative' 'neutral' 'neutral'\n",
            "  'neutral' 'neutral' 'positive' 'negative' 'neutral' 'neutral' 'neutral'\n",
            "  'neutral' 'neutral' 'neutral' 'neutral' 'negative' 'positive' 'neutral'\n",
            "  'positive' 'positive' 'positive' 'neutral' 'neutral' 'neutral'\n",
            "  'neutral' 'neutral' 'negative' 'neutral' 'negative' 'neutral' 'neutral'\n",
            "  'neutral' 'positive' 'neutral' 'positive' 'negative' 'negative'\n",
            "  'neutral' 'negative' 'negative' 'positive' 'neutral' 'negative'\n",
            "  'positive' 'neutral' 'neutral' 'neutral' 'neutral' 'negative' 'neutral'\n",
            "  'negative' 'neutral' 'negative' 'neutral' 'neutral' 'negative'\n",
            "  'neutral' 'neutral' 'neutral']\n",
            " ['negative' 'neutral' 'neutral' 'neutral' 'neutral' 'neutral' 'neutral'\n",
            "  'neutral' 'neutral' 'negative' 'positive' 'negative' 'neutral'\n",
            "  'neutral' 'negative' 'neutral' 'negative' 'positive' 'negative'\n",
            "  'negative' 'neutral' 'negative' 'negative' 'neutral' 'negative'\n",
            "  'negative' 'positive' 'neutral' 'neutral' 'neutral' 'neutral'\n",
            "  'negative' 'neutral' 'neutral' 'neutral' 'positive' 'negative'\n",
            "  'positive' 'neutral' 'positive' 'negative' 'neutral' 'negative'\n",
            "  'neutral' 'positive' 'neutral' 'negative' 'positive' 'negative'\n",
            "  'negative' 'positive' 'neutral' 'neutral' 'positive' 'neutral'\n",
            "  'neutral' 'negative' 'positive' 'neutral' 'positive' 'positive'\n",
            "  'positive' 'positive' 'neutral' 'neutral' 'positive' 'positive'\n",
            "  'negative' 'negative' 'negative' 'neutral' 'neutral' 'neutral'\n",
            "  'positive' 'positive' 'positive' 'negative' 'negative' 'negative'\n",
            "  'neutral' 'neutral' 'positive' 'positive' 'negative' 'neutral'\n",
            "  'neutral' 'neutral' 'neutral' 'neutral' 'negative' 'negative'\n",
            "  'negative' 'neutral' 'negative' 'negative' 'neutral' 'negative'\n",
            "  'negative' 'positive' 'negative']]\n"
          ]
        }
      ]
    },
    {
      "cell_type": "code",
      "source": [
        "import krippendorff as kd\n",
        "\n",
        "kd.alpha(array, level_of_measurement='nominal')\n"
      ],
      "metadata": {
        "colab": {
          "base_uri": "https://localhost:8080/",
          "height": 321
        },
        "id": "BByIPePd_AVC",
        "outputId": "6ae88fc5-3f2d-415f-b9ee-184593ab3a59"
      },
      "execution_count": 84,
      "outputs": [
        {
          "output_type": "error",
          "ename": "ValueError",
          "evalue": "ignored",
          "traceback": [
            "\u001b[0;31m---------------------------------------------------------------------------\u001b[0m",
            "\u001b[0;31mValueError\u001b[0m                                Traceback (most recent call last)",
            "\u001b[0;32m<ipython-input-84-6427ab3e1898>\u001b[0m in \u001b[0;36m<cell line: 3>\u001b[0;34m()\u001b[0m\n\u001b[1;32m      1\u001b[0m \u001b[0;32mimport\u001b[0m \u001b[0mkrippendorff\u001b[0m \u001b[0;32mas\u001b[0m \u001b[0mkd\u001b[0m\u001b[0;34m\u001b[0m\u001b[0;34m\u001b[0m\u001b[0m\n\u001b[1;32m      2\u001b[0m \u001b[0;34m\u001b[0m\u001b[0m\n\u001b[0;32m----> 3\u001b[0;31m \u001b[0mkd\u001b[0m\u001b[0;34m.\u001b[0m\u001b[0malpha\u001b[0m\u001b[0;34m(\u001b[0m\u001b[0marray\u001b[0m\u001b[0;34m,\u001b[0m \u001b[0mlevel_of_measurement\u001b[0m\u001b[0;34m=\u001b[0m\u001b[0;34m'nominal'\u001b[0m\u001b[0;34m)\u001b[0m\u001b[0;34m\u001b[0m\u001b[0;34m\u001b[0m\u001b[0m\n\u001b[0m",
            "\u001b[0;32m/usr/local/lib/python3.10/dist-packages/krippendorff/krippendorff.py\u001b[0m in \u001b[0;36malpha\u001b[0;34m(reliability_data, value_counts, value_domain, level_of_measurement, dtype)\u001b[0m\n\u001b[1;32m    320\u001b[0m             \u001b[0mcomputed_value_domain\u001b[0m \u001b[0;34m=\u001b[0m \u001b[0mnp\u001b[0m\u001b[0;34m.\u001b[0m\u001b[0munique\u001b[0m\u001b[0;34m(\u001b[0m\u001b[0mreliability_data\u001b[0m\u001b[0;34m[\u001b[0m\u001b[0mreliability_data\u001b[0m \u001b[0;34m!=\u001b[0m \u001b[0;34m\"nan\"\u001b[0m\u001b[0;34m]\u001b[0m\u001b[0;34m)\u001b[0m\u001b[0;34m\u001b[0m\u001b[0;34m\u001b[0m\u001b[0m\n\u001b[1;32m    321\u001b[0m         \u001b[0;32melse\u001b[0m\u001b[0;34m:\u001b[0m\u001b[0;34m\u001b[0m\u001b[0;34m\u001b[0m\u001b[0m\n\u001b[0;32m--> 322\u001b[0;31m             \u001b[0;32mraise\u001b[0m \u001b[0mValueError\u001b[0m\u001b[0;34m(\u001b[0m\u001b[0;34mf\"Don't know how to construct value domain for dtype kind {kind}.\"\u001b[0m\u001b[0;34m)\u001b[0m\u001b[0;34m\u001b[0m\u001b[0;34m\u001b[0m\u001b[0m\n\u001b[0m\u001b[1;32m    323\u001b[0m \u001b[0;34m\u001b[0m\u001b[0m\n\u001b[1;32m    324\u001b[0m         \u001b[0;32mif\u001b[0m \u001b[0mvalue_domain\u001b[0m \u001b[0;32mis\u001b[0m \u001b[0;32mNone\u001b[0m\u001b[0;34m:\u001b[0m\u001b[0;34m\u001b[0m\u001b[0;34m\u001b[0m\u001b[0m\n",
            "\u001b[0;31mValueError\u001b[0m: Don't know how to construct value domain for dtype kind O."
          ]
        }
      ]
    },
    {
      "cell_type": "markdown",
      "source": [
        "References:\n",
        "1. https://gist.github.com/cbuntain/9dd7e42d5d8ab34609162410e06f3270\n",
        "2. https://stackoverflow.com/questions/56481245/inter-rater-reliability-calculation-for-multi-raters-data\n",
        "\n"
      ],
      "metadata": {
        "id": "eESwVJK_268L"
      }
    }
  ]
}